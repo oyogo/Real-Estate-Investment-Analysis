{
 "cells": [
  {
   "cell_type": "markdown",
   "metadata": {},
   "source": [
    "#### BUSINESS PROBLEM\n",
    "\n",
    "The real estate sector in Kenya has seen a tremendous growth in the recent past and Nairobi, the capital city of Kenya, sits at the top among the towns that are experiencing a rebirth of property development. In short, real estate investment is the talk of the town and it seems as though everyone is up for grabs for this ‘cake’. However, much as it’s that promising, not everyone is savvy as to where to begin, also, much care should be observed when making decisions as to what kind investment to make otherwise a miscalculated investment can turn out to be a bitter pill to swallow . Take for example an investor who would like to make investment in the real estate sector but they don’t know how and where to begin, some of the questions that they could be asking are where should I buy land? What should I develop on the property? And many other similar questions that demand for a response.\n",
    "It would be hectic to make a visit to every single property on sale and have a view of its location and venues around it if there be any, similarly , to page through every single page of some given real estate agency website to check on available properties on sale and there location. Hence, a quick analytical tour through every property would prove to be of help in the decision making process.\n",
    "\n"
   ]
  },
  {
   "cell_type": "code",
   "execution_count": null,
   "metadata": {},
   "outputs": [],
   "source": []
  }
 ],
 "metadata": {
  "kernelspec": {
   "display_name": "Python 3",
   "language": "python",
   "name": "python3"
  },
  "language_info": {
   "codemirror_mode": {
    "name": "ipython",
    "version": 3
   },
   "file_extension": ".py",
   "mimetype": "text/x-python",
   "name": "python",
   "nbconvert_exporter": "python",
   "pygments_lexer": "ipython3",
   "version": "3.7.3"
  }
 },
 "nbformat": 4,
 "nbformat_minor": 2
}
