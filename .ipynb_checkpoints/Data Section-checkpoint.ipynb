{
 "cells": [
  {
   "cell_type": "markdown",
   "metadata": {},
   "source": [
    "#### Data\n",
    "\n",
    "To address the problem mentioned afore, I would need a list of properties on sale, their respective address, size, price and category of property. This data I can get from real estate agencies’ websites.\n",
    "I will also use Foursquare API to get the venues around a given property.\n",
    "Obtaining the venues around some property on sale and ranking them would go a long way in helping in decision making as to what kind of business/development would fit the property in question. Clustering the properties with respect to the venues will be of great help as well.\n"
   ]
  },
  {
   "cell_type": "code",
   "execution_count": null,
   "metadata": {},
   "outputs": [],
   "source": []
  }
 ],
 "metadata": {
  "kernelspec": {
   "display_name": "Python 3",
   "language": "python",
   "name": "python3"
  },
  "language_info": {
   "codemirror_mode": {
    "name": "ipython",
    "version": 3
   },
   "file_extension": ".py",
   "mimetype": "text/x-python",
   "name": "python",
   "nbconvert_exporter": "python",
   "pygments_lexer": "ipython3",
   "version": "3.7.3"
  }
 },
 "nbformat": 4,
 "nbformat_minor": 2
}
